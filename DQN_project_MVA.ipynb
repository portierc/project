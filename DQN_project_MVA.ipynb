{
 "cells": [
  {
   "cell_type": "markdown",
   "metadata": {},
   "source": [
    "**You may need to install [OpenCV](https://pypi.python.org/pypi/opencv-python) and [scikit-video](http://www.scikit-video.org/stable/).**"
   ]
  },
  {
   "cell_type": "code",
   "execution_count": 1,
   "metadata": {},
   "outputs": [
    {
     "name": "stderr",
     "output_type": "stream",
     "text": [
      "Using TensorFlow backend.\n"
     ]
    }
   ],
   "source": [
    "import keras\n",
    "import numpy as np\n",
    "import io\n",
    "import base64\n",
    "from IPython.display import HTML\n",
    "import skvideo.io\n",
    "import cv2\n",
    "import json\n",
    "\n",
    "from keras.models import Sequential,model_from_json\n",
    "from keras.layers.core import Dense, Flatten\n",
    "from keras.optimizers import sgd\n",
    "from keras.layers import Conv2D, MaxPooling2D, Activation, AveragePooling2D,Reshape,BatchNormalization\n",
    "from keras import backend as K"
   ]
  },
  {
   "cell_type": "markdown",
   "metadata": {},
   "source": [
    "# MiniProject on Deep Reinforcement Learning"
   ]
  },
  {
   "cell_type": "markdown",
   "metadata": {},
   "source": [
    "__Notations__: $E_p$ is the expectation under probability $p$. Please justify each of your answer and widely comment your code."
   ]
  },
  {
   "cell_type": "markdown",
   "metadata": {},
   "source": [
    "# Context"
   ]
  },
  {
   "cell_type": "markdown",
   "metadata": {},
   "source": [
    "In a reinforcement learning algorithm, we modelize each step $t$ as an action $a_t$ obtained from a state $s_t$, i.e. $\\{(a_{t},s_{t})_{t\\leq T}\\}$ having the Markov property. We consider a discount factor $\\gamma \\in [0,1]$ that ensures convergence. The goal is to find among all the policies $\\pi$, one that maximizes the expected reward:\n",
    "\n",
    "\\begin{equation*}\n",
    "R(\\pi)=\\sum_{t\\leq T}E_{p^{\\pi}}[\\gamma^t r(s_{t},a_{t})] \\> ,\n",
    "\\end{equation*}\n",
    "\n",
    "where: \n",
    "\\begin{equation*}p^{\\pi}(a_{0},a_{1},s_{1},...,a_{T},s_{T})=p(a_{0})\\prod_{t=1}^{T}\\pi(a_{t}|s_{t})p(s_{t+1}|s_{t},a_{t}) \\> .\n",
    "\\end{equation*}\n",
    "\n",
    "We note the $Q$-function:\n",
    "\n",
    "\\begin{equation*}Q^\\pi(s,a)=E_{p^{\\pi}}[\\sum_{t\\leq T}\\gamma^{t}r(s_{t},a_{t})|s_{0}=s,a_{0}=a] \\> .\n",
    "\\end{equation*}\n",
    "\n",
    "Thus, the optimal Q function is:\n",
    "\\begin{equation*}\n",
    "Q^*(s,a)=\\max_{\\pi}Q^\\pi(s,a) \\> .\n",
    "\\end{equation*}\n",
    "\n",
    "In this project, we will apply the deep reinforcement learning techniques to a simple game: an agent will have to learn from scratch a policy that will permit it maximizing a reward."
   ]
  },
  {
   "cell_type": "markdown",
   "metadata": {},
   "source": [
    "## The environment, the agent and the game"
   ]
  },
  {
   "cell_type": "markdown",
   "metadata": {},
   "source": [
    "### The environment"
   ]
  },
  {
   "cell_type": "markdown",
   "metadata": {},
   "source": [
    "```Environment``` is an abstract class that represents the states, rewards, and actions to obtain the new state."
   ]
  },
  {
   "cell_type": "code",
   "execution_count": 2,
   "metadata": {},
   "outputs": [],
   "source": [
    "class Environment(object):\n",
    "    def __init__(self):\n",
    "        pass\n",
    "\n",
    "    def act(self, act):\n",
    "        \"\"\"\n",
    "        One can act on the environment and obtain its reaction:\n",
    "        - the new state\n",
    "        - the reward of the new state\n",
    "        - should we continue the game?\n",
    "\n",
    "        :return: state, reward, game_over\n",
    "        \"\"\"\n",
    "        pass\n",
    "\n",
    "\n",
    "    def reset(self):\n",
    "        \"\"\"\n",
    "        Reinitialize the environment to a random state and returns\n",
    "        the original state\n",
    "\n",
    "        :return: state\n",
    "        \"\"\"\n",
    "        pass\n",
    "    \n",
    "    def draw(self):\n",
    "        \"\"\"\n",
    "        Visualize in the console or graphically the current state\n",
    "        \"\"\"\n",
    "        pass"
   ]
  },
  {
   "cell_type": "markdown",
   "metadata": {},
   "source": [
    "The method ```act``` allows to act on the environment at a given state $s_t$ (stored internally), via action $a_t$. The method will return the new state $s_{t+1}$, the reward $r(s_{t},a_{t})$ and determines if $t\\leq T$ (*game_over*).\n",
    "\n",
    "The method ```reset``` simply reinitializes the environment to a random state $s_0$.\n",
    "\n",
    "The method ```draw``` displays the current state $s_t$ (this is useful to check the behavior of the Agent).\n",
    "\n",
    "We modelize $s_t$ as a tensor, while $a_t$ is an integer."
   ]
  },
  {
   "cell_type": "markdown",
   "metadata": {},
   "source": [
    "### The Agent"
   ]
  },
  {
   "cell_type": "markdown",
   "metadata": {},
   "source": [
    "The goal of the ```Agent``` is to interact with the ```Environment``` by proposing actions $a_t$ obtained from a given state $s_t$ to attempt to maximize its __reward__ $r(s_t,a_t)$. We propose the following abstract class:"
   ]
  },
  {
   "cell_type": "code",
   "execution_count": 3,
   "metadata": {},
   "outputs": [],
   "source": [
    "class Agent(object):\n",
    "    def __init__(self, epsilon=0.1, n_action=4):\n",
    "        self.epsilon = epsilon\n",
    "        self.n_action = n_action\n",
    "    \n",
    "    def set_epsilon(self,e):\n",
    "        self.epsilon = e\n",
    "\n",
    "    def act(self,s,train=True):\n",
    "        \"\"\" This function should return the next action to do:\n",
    "        an integer between 0 and 4 (not included) with a random exploration of epsilon\"\"\"\n",
    "        if train:\n",
    "            if np.random.rand() <= self.epsilon:\n",
    "                a = np.random.randint(0, self.n_action, size=1)[0]\n",
    "            else:\n",
    "                a = self.learned_act(s)\n",
    "        else: # in some cases, this can improve the performance.. remove it if poor performances\n",
    "            a = self.learned_act(s)\n",
    "\n",
    "        return a\n",
    "\n",
    "    def learned_act(self,s):\n",
    "        \"\"\" Act via the policy of the agent, from a given state s\n",
    "        it proposes an action a\"\"\"\n",
    "        pass\n",
    "\n",
    "    def reinforce(self, s, n_s, a, r, game_over_):\n",
    "        \"\"\" This function is the core of the learning algorithm. \n",
    "        It takes as an input the current state s_, the next state n_s_\n",
    "        the action a_ used to move from s_ to n_s_ and the reward r_.\n",
    "        \n",
    "        Its goal is to learn a policy.\n",
    "        \"\"\"\n",
    "        pass\n",
    "\n",
    "    def save(self):\n",
    "        \"\"\" This function returns basic stats if applicable: the\n",
    "        loss and/or the model\"\"\"\n",
    "        pass\n",
    "\n",
    "    def load(self):\n",
    "        \"\"\" This function allows to restore a model\"\"\"\n",
    "        pass"
   ]
  },
  {
   "cell_type": "markdown",
   "metadata": {},
   "source": [
    "***\n",
    "__Question 1__:\n",
    "Explain the function act. Why is ```epsilon``` essential?"
   ]
  },
  {
   "cell_type": "markdown",
   "metadata": {},
   "source": [
    "In the function act, the agent has two options. Whether it is purely acting in its environement according to a policy : for a given state s, an action a is advised, whether the agent tries to explorate its environement without following the policy. This choice is made thanks to the parameter epsilon. It is a threeshold to make the agent choose between exploration of the environment (below epsilon) and acting according to a policy, exploitation (above epsilon)."
   ]
  },
  {
   "cell_type": "markdown",
   "metadata": {},
   "source": [
    "***\n",
    "### The Game"
   ]
  },
  {
   "cell_type": "markdown",
   "metadata": {},
   "source": [
    "The ```Agent``` and the ```Environment``` work in an interlaced way as in the following (take some time to understand this code as it is the core of the project)\n",
    "\n",
    "```python\n",
    "\n",
    "epoch = 300\n",
    "env = Environment()\n",
    "agent = Agent()\n",
    "\n",
    "\n",
    "# Number of won games\n",
    "score = 0\n",
    "loss = 0\n",
    "\n",
    "\n",
    "for e in range(epoch):\n",
    "    # At each epoch, we restart to a fresh game and get the initial state\n",
    "    state = env.reset()\n",
    "    # This assumes that the games will end\n",
    "    game_over = False\n",
    "\n",
    "    win = 0\n",
    "    lose = 0\n",
    "    \n",
    "    while not game_over:\n",
    "        # The agent performs an action\n",
    "        action = agent.act(state)\n",
    "\n",
    "        # Apply an action to the environment, get the next state, the reward\n",
    "        # and if the games end\n",
    "        prev_state = state\n",
    "        state, reward, game_over = env.act(action)\n",
    "\n",
    "        # Update the counters\n",
    "        if reward > 0:\n",
    "            win = win + reward\n",
    "        if reward < 0:\n",
    "            lose = lose -reward\n",
    "\n",
    "        # Apply the reinforcement strategy\n",
    "        loss = agent.reinforce(prev_state, state,  action, reward, game_over)\n",
    "\n",
    "    # Save as a mp4\n",
    "    if e % 10 == 0:\n",
    "        env.draw(e)\n",
    "\n",
    "    # Update stats\n",
    "    score += win-lose\n",
    "\n",
    "    print(\"Epoch {:03d}/{:03d} | Loss {:.4f} | Win/lose count {}/{} ({})\"\n",
    "          .format(e, epoch, loss, win, lose, win-lose))\n",
    "    agent.save()\n",
    "```"
   ]
  },
  {
   "cell_type": "markdown",
   "metadata": {},
   "source": [
    "# The game, *eat cheese*"
   ]
  },
  {
   "cell_type": "markdown",
   "metadata": {},
   "source": [
    "A rat runs on an island and tries to eat as much as possible. The island is subdivided into $N\\times N$ cells, in which there are cheese (+0.5) and poisonous cells (-1). The rat has a visibility of 2 cells (thus it can see $5^2$ cells). The rat is given a time $T$ to accumulate as much food as possible. It can perform 4 actions: going up, down, left, right. \n",
    "\n",
    "The goal is to code an agent to solve this task that will learn by trial and error. We propose the following environment:"
   ]
  },
  {
   "cell_type": "code",
   "execution_count": 4,
   "metadata": {},
   "outputs": [],
   "source": [
    "class Environment(object):\n",
    "    def __init__(self, grid_size=10, max_time=500, temperature=0.1):\n",
    "        grid_size = grid_size+4\n",
    "        self.grid_size = grid_size\n",
    "        self.max_time = max_time\n",
    "        self.temperature = temperature\n",
    "\n",
    "        #board on which one plays\n",
    "        self.board = np.zeros((grid_size,grid_size))\n",
    "        self.position = np.zeros((grid_size,grid_size))\n",
    "\n",
    "        # coordinate of the cat\n",
    "        self.x = 0\n",
    "        self.y = 1\n",
    "\n",
    "        # self time\n",
    "        self.t = 0\n",
    "\n",
    "        self.scale=16\n",
    "\n",
    "        self.to_draw = np.zeros((max_time+2, grid_size*self.scale, grid_size*self.scale, 3))\n",
    "\n",
    "\n",
    "    def draw(self,e):\n",
    "        skvideo.io.vwrite(str(e) + '.mp4', self.to_draw)\n",
    "\n",
    "    def get_frame(self,t):\n",
    "        b = np.zeros((self.grid_size,self.grid_size,3))+128\n",
    "        b[self.board>0,0] = 256\n",
    "        b[self.board < 0, 2] = 256\n",
    "        b[self.x,self.y,:]=256\n",
    "        b[-2:,:,:]=0\n",
    "        b[:,-2:,:]=0\n",
    "        b[:2,:,:]=0\n",
    "        b[:,:2,:]=0\n",
    "        \n",
    "        b =  cv2.resize(b, None, fx=self.scale, fy=self.scale, interpolation=cv2.INTER_NEAREST)\n",
    "\n",
    "        self.to_draw[t,:,:,:]=b\n",
    "\n",
    "\n",
    "    def act(self, action):\n",
    "        \"\"\"This function returns the new state, reward and decides if the\n",
    "        game ends.\"\"\"\n",
    "\n",
    "        self.get_frame(int(self.t))\n",
    "\n",
    "        self.position = np.zeros((self.grid_size, self.grid_size))\n",
    "\n",
    "        self.position[0:2,:]= -1\n",
    "        self.position[:,0:2] = -1\n",
    "        self.position[-2:, :] = -1\n",
    "        self.position[:, -2:] = -1\n",
    "\n",
    "        self.position[self.x, self.y] = 1\n",
    "        if action == 0:\n",
    "            if self.x == self.grid_size-3:\n",
    "                self.x = self.x-1\n",
    "            else:\n",
    "                self.x = self.x + 1\n",
    "        elif action == 1:\n",
    "            if self.x == 2:\n",
    "                self.x = self.x+1\n",
    "            else:\n",
    "                self.x = self.x-1\n",
    "        elif action == 2:\n",
    "            if self.y == self.grid_size - 3:\n",
    "                self.y = self.y - 1\n",
    "            else:\n",
    "                self.y = self.y + 1\n",
    "        elif action == 3:\n",
    "            if self.y == 2:\n",
    "                self.y = self.y + 1\n",
    "            else:\n",
    "                self.y = self.y - 1\n",
    "        else:\n",
    "            RuntimeError('Error: action not recognized')\n",
    "\n",
    "        self.t = self.t + 1\n",
    "        reward = self.board[self.x, self.y]\n",
    "        self.board[self.x, self.y] = 0\n",
    "        game_over = self.t > self.max_time\n",
    "        state = np.concatenate((self.board.reshape(self.grid_size, self.grid_size,1),\n",
    "                        self.position.reshape(self.grid_size, self.grid_size,1)),axis=2)\n",
    "        state = state[self.x-2:self.x+3,self.y-2:self.y+3,:]\n",
    "\n",
    "        return state, reward, game_over\n",
    "\n",
    "    def reset(self):\n",
    "        \"\"\"This function resets the game and returns the initial state\"\"\"\n",
    "\n",
    "        self.x = np.random.randint(3, self.grid_size-3, size=1)[0]\n",
    "        self.y = np.random.randint(3, self.grid_size-3, size=1)[0]\n",
    "\n",
    "\n",
    "        bonus = 0.5*np.random.binomial(1,self.temperature,size=self.grid_size**2)\n",
    "        bonus = bonus.reshape(self.grid_size,self.grid_size)\n",
    "\n",
    "        malus = -1.0*np.random.binomial(1,self.temperature,size=self.grid_size**2)\n",
    "        malus = malus.reshape(self.grid_size, self.grid_size)\n",
    "\n",
    "        self.to_draw = np.zeros((self.max_time+2, self.grid_size*self.scale, self.grid_size*self.scale, 3))\n",
    "\n",
    "\n",
    "        malus[bonus>0]=0\n",
    "\n",
    "        self.board = bonus + malus\n",
    "\n",
    "        self.position = np.zeros((self.grid_size, self.grid_size))\n",
    "        self.position[0:2,:]= -1\n",
    "        self.position[:,0:2] = -1\n",
    "        self.position[-2:, :] = -1\n",
    "        self.position[:, -2:] = -1\n",
    "        self.board[self.x,self.y] = 0\n",
    "        self.t = 0\n",
    "\n",
    "        state = np.concatenate((\n",
    "                               self.board.reshape(self.grid_size, self.grid_size,1),\n",
    "                        self.position.reshape(self.grid_size, self.grid_size,1)),axis=2)\n",
    "\n",
    "        state = state[self.x - 2:self.x + 3, self.y - 2:self.y + 3, :]\n",
    "        return state"
   ]
  },
  {
   "cell_type": "markdown",
   "metadata": {},
   "source": [
    "The following elements are important because they correspond to the hyper parameters for this project:"
   ]
  },
  {
   "cell_type": "code",
   "execution_count": 5,
   "metadata": {},
   "outputs": [],
   "source": [
    "# parameters\n",
    "size = 13\n",
    "T=200\n",
    "temperature=0.3\n",
    "epochs_train=20 # set small when debugging\n",
    "epochs_test=20 # set small when debugging\n",
    "\n",
    "# display videos\n",
    "def display_videos(name):\n",
    "    video = io.open(name, 'r+b').read()\n",
    "    encoded = base64.b64encode(video)\n",
    "    return '''<video alt=\"test\" controls>\n",
    "                <source src=\"data:video/mp4;base64,{0}\" type=\"video/mp4\" />\n",
    "             </video>'''.format(encoded.decode('ascii'))"
   ]
  },
  {
   "cell_type": "markdown",
   "metadata": {},
   "source": [
    "__Question 2__ Explain the use of the arrays ```position``` and ```board```."
   ]
  },
  {
   "cell_type": "markdown",
   "metadata": {},
   "source": [
    "The array position is used to show where the rat is before acting and to show what cells are reachable. For example, the outline added is unreachable, thus these positions have a coefficient equal to -1. The position where the rat is has a coefficient equal to 1. Other positions reachable, where the rat is not currently have a coefficient equal to 0.\n",
    "\n",
    "The array board is used to represent the rewards on the island. If there is a poison in (x,y), the cell (x,y) has a coefficient equal to -1. If there is a cheese in (x,y), the cell (x,y) has a coefficient equal to 0.5. Otherwise, cells have a coefficient equal to 0. Once the rat went on a given cell, the reward is eaten, wheter it was nothing, a poison or a cheese, and disapears from the board and the coefficient becomes 0.\n"
   ]
  },
  {
   "cell_type": "markdown",
   "metadata": {},
   "source": [
    "## Random Agent"
   ]
  },
  {
   "cell_type": "markdown",
   "metadata": {},
   "source": [
    "***\n",
    "__Question 3__ Implement a random Agent (only ```learned_act``` needs to be implemented):"
   ]
  },
  {
   "cell_type": "code",
   "execution_count": 6,
   "metadata": {},
   "outputs": [],
   "source": [
    "class RandomAgent(Agent):\n",
    "    def __init__(self):\n",
    "        super(RandomAgent, self).__init__()\n",
    "        pass\n",
    "\n",
    "    def learned_act(self, s):\n",
    "        a = np.random.randint(0, self.n_action, size=1)[0]\n",
    "        return(a)"
   ]
  },
  {
   "cell_type": "markdown",
   "metadata": {},
   "source": [
    "***\n",
    "***\n",
    "__Question 4__ Visualize the game moves. You need to fill in the following function for the evaluation:"
   ]
  },
  {
   "cell_type": "code",
   "execution_count": 7,
   "metadata": {},
   "outputs": [],
   "source": [
    "def test(agent,env,epochs,prefix=''):\n",
    "    # Number of won games\n",
    "    score = 0\n",
    "        \n",
    "    for e in range(epochs):\n",
    "        \n",
    "       \n",
    "        # At each epoch, we restart to a fresh game and get the initial state\n",
    "        state = env.reset()\n",
    "        # This assumes that the games will end\n",
    "        game_over = False\n",
    "\n",
    "        win = 0\n",
    "        lose = 0\n",
    "\n",
    "        while not game_over:\n",
    "            # The agent performs an action\n",
    "            action = agent.learned_act(state)\n",
    "\n",
    "            # Apply an action to the environment, get the next state, the reward\n",
    "            # and if the games end\n",
    "            \n",
    "            prev_state = state\n",
    "            state, reward, game_over = env.act(action)\n",
    "            \n",
    "\n",
    "            # Update the counters\n",
    "            if reward > 0:\n",
    "                win = win + reward\n",
    "            if reward < 0:\n",
    "                lose = lose - reward\n",
    "            \n",
    "            \n",
    "        # Update stats\n",
    "        score = score + win-lose\n",
    "        \n",
    "        # Save as a mp4\n",
    "        env.draw(prefix + str(e))\n",
    "      \n",
    "        print(\"Win/lose count {}/{}. Average score ({})\"\n",
    "              .format(win, lose, score/(1+e)))\n",
    "    \n",
    "    print('Final score: '+str(score/epochs))"
   ]
  },
  {
   "cell_type": "code",
   "execution_count": 8,
   "metadata": {},
   "outputs": [
    {
     "name": "stdout",
     "output_type": "stream",
     "text": [
      "Win/lose count 11.5/20.0. Average score (-8.5)\n",
      "Win/lose count 6.5/16.0. Average score (-9.0)\n",
      "Win/lose count 9.0/29.0. Average score (-12.666666666666666)\n",
      "Win/lose count 9.5/18.0. Average score (-11.625)\n",
      "Win/lose count 9.5/21.0. Average score (-11.6)\n",
      "Win/lose count 11.0/11.0. Average score (-9.666666666666666)\n",
      "Win/lose count 11.0/8.0. Average score (-7.857142857142857)\n",
      "Win/lose count 13.5/15.0. Average score (-7.0625)\n",
      "Win/lose count 16.5/16.0. Average score (-6.222222222222222)\n",
      "Win/lose count 10.0/12.0. Average score (-5.8)\n",
      "Win/lose count 7.5/14.0. Average score (-5.863636363636363)\n",
      "Win/lose count 9.5/8.0. Average score (-5.25)\n",
      "Win/lose count 14.5/10.0. Average score (-4.5)\n",
      "Win/lose count 9.5/17.0. Average score (-4.714285714285714)\n",
      "Win/lose count 6.0/10.0. Average score (-4.666666666666667)\n",
      "Win/lose count 8.5/21.0. Average score (-5.15625)\n",
      "Win/lose count 16.0/12.0. Average score (-4.617647058823529)\n",
      "Win/lose count 12.0/16.0. Average score (-4.583333333333333)\n",
      "Win/lose count 12.0/22.0. Average score (-4.868421052631579)\n",
      "Win/lose count 8.0/15.0. Average score (-4.975)\n",
      "Final score: -4.975\n"
     ]
    },
    {
     "data": {
      "text/html": [
       "<video alt=\"test\" controls>\n",
       "                <source src=\"data:video/mp4;base64,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\" type=\"video/mp4\" />\n",
       "             </video>"
      ],
      "text/plain": [
       "<IPython.core.display.HTML object>"
      ]
     },
     "execution_count": 8,
     "metadata": {},
     "output_type": "execute_result"
    }
   ],
   "source": [
    "# Initialize the game\n",
    "env = Environment(grid_size=size, max_time=T,temperature=temperature)\n",
    "\n",
    "# Initialize the agent!\n",
    "agent = RandomAgent()\n",
    "\n",
    "test(agent,env,epochs_test,prefix='random')\n",
    "HTML(display_videos('random10.mp4'))"
   ]
  },
  {
   "cell_type": "markdown",
   "metadata": {},
   "source": [
    "***\n",
    "## DQN"
   ]
  },
  {
   "cell_type": "markdown",
   "metadata": {},
   "source": [
    "Let us assume here that $T=\\infty$.\n",
    "\n",
    "***\n",
    "__Question 5__ Let $\\pi$ be a policy, show that:\n",
    "\n",
    "\\begin{equation*}\n",
    "Q^{\\pi}(s,a)=E_{(s',a')\\sim p(.|s,a)}[r(s,a)+\\gamma Q^{\\pi}(s',a')]\n",
    "\\end{equation*}\n",
    "\n",
    "Then, show that for the optimal policy $\\pi^*$ (we assume its existence), the following holds: \n",
    "\n",
    "\\begin{equation*}\n",
    "Q^{*}(s,a)=E_{s'\\sim \\pi^*(.|s,a)}[r(s,a)+\\gamma\\max_{a'}Q^{*}(s',a')].\n",
    "\\end{equation*}\n",
    "Finally, deduce that a plausible objective is:\n",
    "\n",
    "\\begin{equation*}\n",
    "\\mathcal{L}(\\theta)=E_{s' \\sim \\pi^*(.|s,a)}\\Vert r+\\gamma\\max\\max_{a'}Q(s',a',\\theta)-Q(s,a,\\theta)\\Vert^{2}.\n",
    "\\end{equation*}\n",
    "\n",
    "\n"
   ]
  },
  {
   "cell_type": "markdown",
   "metadata": {},
   "source": [
    "According to the definition given in class, the “Action-Value Function $Q^{\\pi}(s, a)$” of a policy $\\pi$ is defined as the expected return given the current observation $s$ and the chosen action $a$:\n",
    "\n",
    "\\begin{equation}\n",
    "Q^{\\pi}(s, a)=\\mathrm{E}_{\\pi}\\left[R_{t} | s_{t}=s, a_{t}=a\\right]\n",
    "\\end{equation}\n",
    "\\begin{equation}\n",
    "Q^{\\pi}(s, a)=\\mathrm{E}_{\\pi}\\left[\\sum_{k=0}^{\\infty} \\gamma^{k} r_{t+k} | s_{t}=s, a_{t}=a\\right]\n",
    "\\end{equation}\n",
    "\\begin{equation}\n",
    "Q^{\\pi}(s, a)=\\mathrm{E}_{\\pi}\\left[r(s,a) +\\sum_{k=1}^{\\infty} \\gamma^{k} r_{t+k} | s_{t}=s, a_{t}=a\\right]\n",
    "\\end{equation}\n",
    "\\begin{equation}\n",
    "Q^{\\pi}(s, a)=\\mathrm{E}_{\\pi}\\left[r(s,a) +\\sum_{k=1}^{\\infty} \\gamma^{k} r_{t+k} | s_{t}=s, a_{t}=a\\right]\n",
    "\\end{equation}\n",
    "\\begin{equation}\n",
    "Q^{\\pi}(s, a)=r(s,a) + \\gamma \\mathrm{E}_{\\pi}\\left[\\mathrm{E}_{\\pi}\\left[\\sum_{k=0}^{\\infty} \\gamma^{k} r_{t+k+1} | s_{t+1}=s', a_{t+1}=a'\\right]| s_{t}=s, a_{t}=a\\right]\n",
    "\\end{equation}\n",
    "\\begin{equation}\n",
    "Q^{\\pi}(s, a)=r(s,a) + \\gamma \\sum_{a',s'} \\mathrm{P}\\left(s_{t+1}=s', a_{t+1}=a'| s_{t}=s, a_{t}=a\\right) \\mathrm{E}_{\\pi}\\left[\\sum_{k=0}^{\\infty} \\gamma^{k} r_{t+k+1} | s_{t+1}=s', a_{t+1}=a'\\right]\n",
    "\\end{equation}\n",
    "\\begin{equation}\n",
    "Q^{\\pi}(s, a)=r(s,a) + \\gamma \\sum_{a',s'} \\mathrm{P}\\left(s_{t+1}=s', a_{t+1}=a'| s_{t}=s, a_{t}=a\\right) \\mathrm{E}_{\\pi}\\left[\\sum_{k=0}^{\\infty} \\gamma^{k} r_{t+k+1} | s_{t+1}=s', a_{t+1}=a'\\right]\n",
    "\\end{equation}\n",
    "\\begin{equation}\n",
    "Q^{\\pi}(s, a)=\\sum_{a',s'} \\mathrm{P}\\left(s_{t+1}=s', a_{t+1}=a'| s_{t}=s, a_{t}=a\\right) (r(s,a) + \\gamma Q^{\\pi}(s', a'))\n",
    "\\end{equation}\n",
    "\n",
    "\\begin{equation}\n",
    "Q^{\\pi}(s, a)=\\sum_{a',s'} \\mathrm{P}\\left(s_{t+1}=s', a_{t+1}=a'| s_{t}=s, a_{t}=a\\right) (r(s,a) + \\gamma Q^{\\pi}(s', a'))\n",
    "\\end{equation}\n",
    "\n",
    "Thus we have :\n",
    "\n",
    "\\begin{equation*}\n",
    "Q^{\\pi}(s,a)=E_{(s',a')\\sim p(.|s,a)}[r(s,a)+\\gamma Q^{\\pi}(s',a')]\n",
    "\\end{equation*}\n",
    "\n",
    "We assume the existence of the policy $\\pi^*$: \n",
    "\\begin{equation}\n",
    "\\pi^{*}=\\arg \\max _{\\pi,a'} Q^{\\pi}(s', a')\n",
    "\\end{equation}\n",
    "\n",
    "\\begin{equation}\n",
    "Q^{*}(s,a)=max_{\\pi,a'} E_{(s',a')\\sim p(.|s,a)}[r(s,a)+\\gamma Q^{\\pi}(s',a')]\n",
    "\\end{equation}\n",
    "\n",
    "\\begin{equation}\n",
    "Q^{*}(s,a)=max_{\\pi,a'} r(s,a) + \\gamma \\sum_{s'} \\mathrm{P}\\left(s_{t+1}=s'| s_{t}=s, a_{t}=a\\right)Q^{\\pi}(s',a')\n",
    "\\end{equation}\n",
    "\n",
    "\\begin{equation}\n",
    "Q^{*}(s,a)=r(s,a) + \\gamma max_{\\pi,a'} \\sum_{s'} \\mathrm{P}\\left(s_{t+1}=s'| s_{t}=s, a_{t}=a\\right)Q^{\\pi}(s',a')\n",
    "\\end{equation}\n",
    "\n",
    "We invert $max$ and $\\sum$:\n",
    "\n",
    "\\begin{equation}\n",
    "Q^{*}(s,a)=r(s,a) + \\gamma \\sum_{s'} \\mathrm{P}\\left(s_{t+1}=s'| s_{t}=s, a_{t}=a\\right)max_{\\pi,a'}Q^{\\pi}(s',a')\n",
    "\\end{equation}\n",
    "\n",
    "\\begin{equation}\n",
    "Q^{*}(s,a)=r(s,a) + \\gamma \\sum_{s'} \\mathrm{P}\\left(s_{t+1}=s'| s_{t}=s, a_{t}=a\\right)max_{a'}Q^{*}(s',a')\n",
    "\\end{equation}\n",
    "\n",
    "Thus :\n",
    "\n",
    "\\begin{equation*}\n",
    "Q^{*}(s,a)=E_{s'\\sim \\pi^*(.|s,a)}[r(s,a)+\\gamma\\max_{a'}Q^{*}(s',a')].\n",
    "\\end{equation*}\n",
    "\n",
    "It totally makes sense to use the following loss. We try to apply our learned Q value to verify the Bellman equation :\n",
    "\n",
    "\\begin{equation*}\n",
    "\\mathcal{L}(\\theta)=E_{s' \\sim \\pi^*(.|s,a)}\\Vert r+\\gamma\\max\\max_{a'}Q(s',a',\\theta)-Q(s,a,\\theta)\\Vert^{2}.\n",
    "\\end{equation*}\n"
   ]
  },
  {
   "cell_type": "markdown",
   "metadata": {},
   "source": [
    "***\n",
    "The DQN-learning algorithm relies on these derivations to train the parameters $\\theta$ of a Deep Neural Network:\n",
    "\n",
    "1. At the state $s_t$, select the action $a_t$ with best reward using $Q_t$ and store the results;\n",
    "\n",
    "2. Obtain the new state $s_{t+1}$ from the environment $p$;\n",
    "\n",
    "3. Store $(s_t,a_t,s_{t+1})$;\n",
    "\n",
    "4. Obtain $Q_{t+1}$ by minimizing  $\\mathcal{L}$ from a recovered batch from the previously stored results.\n",
    "\n",
    "***\n",
    "__Question 6__ Implement the class ```Memory``` that stores moves (in a replay buffer) via ```remember``` and provides a ```random_access``` to these. Specify a maximum memory size to avoid side effects. You can for example use a ```list()``` and set by default ```max_memory=100```."
   ]
  },
  {
   "cell_type": "code",
   "execution_count": 9,
   "metadata": {},
   "outputs": [],
   "source": [
    "class Memory(object):\n",
    "    def __init__(self, max_memory=100):\n",
    "        self.max_memory = max_memory\n",
    "        self.memory = list()\n",
    "\n",
    "    def remember(self, m):\n",
    "        if len(self.memory)<self.max_memory:\n",
    "            self.memory.append(m)\n",
    "            \n",
    "        else:\n",
    "            self.memory.append(m)\n",
    "            self.memory = self.memory[-100:]\n",
    "\n",
    "    def random_access(self):\n",
    "        n = len(self.memory)\n",
    "        k = np.random.randint(0, n, size=1)[0]\n",
    "        return(self.memory[k])"
   ]
  },
  {
   "cell_type": "markdown",
   "metadata": {},
   "source": [
    "***\n",
    "The pipeline we will use for training is given below:"
   ]
  },
  {
   "cell_type": "code",
   "execution_count": 10,
   "metadata": {},
   "outputs": [],
   "source": [
    "def train(agent,env,epoch,prefix=''):\n",
    "    # Number of won games\n",
    "    score = 0\n",
    "    loss = 0\n",
    "\n",
    "    for e in range(epoch):\n",
    "        # At each epoch, we restart to a fresh game and get the initial state\n",
    "        state = env.reset()\n",
    "        # This assumes that the games will terminate\n",
    "        game_over = False\n",
    "\n",
    "        win = 0\n",
    "        lose = 0\n",
    "\n",
    "        while not game_over:\n",
    "            # The agent performs an action\n",
    "            action = agent.act(state)\n",
    "\n",
    "            # Apply an action to the environment, get the next state, the reward\n",
    "            # and if the games end\n",
    "            prev_state = state\n",
    "            state, reward, game_over = env.act(action)\n",
    "\n",
    "            # Update the counters\n",
    "            if reward > 0:\n",
    "                win = win + reward\n",
    "            if reward < 0:\n",
    "                lose = lose -reward\n",
    "\n",
    "            # Apply the reinforcement strategy\n",
    "            loss = agent.reinforce(prev_state, state,  action, reward, game_over)\n",
    "\n",
    "        # Save as a mp4\n",
    "        if e % 10 == 0:\n",
    "            env.draw(prefix+str(e))\n",
    "\n",
    "        # Update stats\n",
    "        score += win-lose\n",
    "\n",
    "        print(\"Epoch {:03d}/{:03d} | Loss {:.4f} | Win/lose count {}/{} ({})\"\n",
    "              .format(e, epoch, loss, win, lose, win-lose))\n",
    "        agent.save(name_weights=prefix+'model.h5',name_model=prefix+'model.json')"
   ]
  },
  {
   "cell_type": "markdown",
   "metadata": {},
   "source": [
    "***\n",
    "__Question 7__ Implement the DQN training algorithm using a cascade of fully connected layers. You can use different learning rate, batch size or memory size parameters. In particular, the loss might oscillate while the player will start to win the games. You have to find a good criterium."
   ]
  },
  {
   "cell_type": "code",
   "execution_count": 11,
   "metadata": {},
   "outputs": [],
   "source": [
    "class DQN(Agent):\n",
    "    def __init__(self, grid_size,  epsilon = 0.1, memory_size=100, batch_size = 16,n_state=2):\n",
    "        super(DQN, self).__init__(epsilon = epsilon)\n",
    "\n",
    "        # Discount for Q learning\n",
    "        self.discount = 0.7\n",
    "        \n",
    "        self.grid_size = grid_size\n",
    "        \n",
    "        # number of state\n",
    "        self.n_state = n_state\n",
    "\n",
    "        # Memory\n",
    "        self.memory = Memory(memory_size)\n",
    "        \n",
    "        # Batch size when learning\n",
    "        self.batch_size = batch_size\n",
    "\n",
    "    def learned_act(self, s):\n",
    "        q_value = self.model.predict(s.reshape(1,5,5,self.n_state))\n",
    "        return np.argmax(q_value[0])\n",
    "\n",
    "    def reinforce(self, s_, n_s_, a_, r_, game_over_):\n",
    "        # Two steps: first memorize the states, second learn from the pool\n",
    "\n",
    "        self.memory.remember([s_, n_s_, a_, r_, game_over_])\n",
    "        \n",
    "        input_states = np.zeros((self.batch_size, 5,5,self.n_state))\n",
    "        target_q = np.zeros((self.batch_size, 4))\n",
    "        \n",
    "        action, next_state, done = [], [], []\n",
    "        \n",
    "        \n",
    "        for i in range(self.batch_size):\n",
    "            loaded_from_memory = self.memory.random_access()\n",
    "            input_states[i,:,:,:] = loaded_from_memory[0]\n",
    "            action.append(loaded_from_memory[2])\n",
    "            next_state.append(loaded_from_memory[1])\n",
    "            \n",
    "\n",
    "            target_q[i][action[i]] = loaded_from_memory[3]\n",
    "            done.append(loaded_from_memory[4])\n",
    "            \n",
    "        \n",
    "    \n",
    "            game_over_ = done[i]\n",
    "            \n",
    "            if not game_over_:\n",
    "                \n",
    "                target_q[i][action[i]] += self.discount * (\n",
    "                    np.max(self.model.predict(next_state[i].reshape(1,5,5,self.n_state))))\n",
    "        \n",
    "        \n",
    "        # HINT: Clip the target to avoid exploiding gradients.. -- clipping is a bit tighter\n",
    "        target_q = np.clip(target_q, -3, 3)\n",
    "\n",
    "        l = self.model.train_on_batch(input_states, target_q)\n",
    "\n",
    "\n",
    "        return l\n",
    "\n",
    "    def save(self,name_weights='model.h5',name_model='model.json'):\n",
    "        self.model.save_weights(name_weights, overwrite=True)\n",
    "        with open(name_model, \"w\") as outfile:\n",
    "            json.dump(self.model.to_json(), outfile)\n",
    "            \n",
    "    def load(self,name_weights='model.h5',name_model='model.json'):\n",
    "        with open(name_model, \"r\") as jfile:\n",
    "            model = model_from_json(json.load(jfile))\n",
    "        model.load_weights(name_weights)\n",
    "        model.compile(\"sgd\", \"mse\")\n",
    "        self.model = model\n",
    "\n",
    "            \n",
    "class DQN_FC(DQN):\n",
    "    def __init__(self, *args, lr=0.1,**kwargs):\n",
    "        super(DQN_FC, self).__init__( *args,**kwargs)\n",
    "        \n",
    "        # NN Model\n",
    "        \n",
    "        model = Sequential()\n",
    "        model.add(Flatten())\n",
    "        model.add(Dense(32))\n",
    "        model.add(Dense(32))\n",
    "        model.add(Dense(4))\n",
    "        \n",
    "        \n",
    "        model.compile(sgd(lr=lr, decay=1e-4, momentum=0.0), \"mse\")\n",
    "        self.model = model\n",
    "        "
   ]
  },
  {
   "cell_type": "code",
   "execution_count": 12,
   "metadata": {},
   "outputs": [
    {
     "name": "stdout",
     "output_type": "stream",
     "text": [
      "Epoch 000/020 | Loss 0.0645 | Win/lose count 2.5/3.0 (-0.5)\n",
      "Epoch 001/020 | Loss 0.0405 | Win/lose count 3.0/7.0 (-4.0)\n",
      "Epoch 002/020 | Loss 0.0123 | Win/lose count 2.5/1.0 (1.5)\n",
      "Epoch 003/020 | Loss 0.0218 | Win/lose count 6.5/16.0 (-9.5)\n",
      "Epoch 004/020 | Loss 0.0064 | Win/lose count 5.5/2.0 (3.5)\n",
      "Epoch 005/020 | Loss 0.0097 | Win/lose count 5.0/6.0 (-1.0)\n",
      "Epoch 006/020 | Loss 0.0162 | Win/lose count 8.0/3.0 (5.0)\n",
      "Epoch 007/020 | Loss 0.0039 | Win/lose count 2.0/2.0 (0.0)\n",
      "Epoch 008/020 | Loss 0.0112 | Win/lose count 5.5/7.0 (-1.5)\n",
      "Epoch 009/020 | Loss 0.0087 | Win/lose count 3.0/4.0 (-1.0)\n",
      "Epoch 010/020 | Loss 0.0305 | Win/lose count 5.0/5.0 (0.0)\n",
      "Epoch 011/020 | Loss 0.0140 | Win/lose count 8.5/4.0 (4.5)\n",
      "Epoch 012/020 | Loss 0.0098 | Win/lose count 5.0/3.0 (2.0)\n",
      "Epoch 013/020 | Loss 0.0135 | Win/lose count 5.0/3.0 (2.0)\n",
      "Epoch 014/020 | Loss 0.0131 | Win/lose count 9.0/6.0 (3.0)\n",
      "Epoch 015/020 | Loss 0.0027 | Win/lose count 6.5/2.0 (4.5)\n",
      "Epoch 016/020 | Loss 0.0232 | Win/lose count 8.0/7.0 (1.0)\n",
      "Epoch 017/020 | Loss 0.0064 | Win/lose count 3.5/0 (3.5)\n",
      "Epoch 018/020 | Loss 0.0062 | Win/lose count 14.0/6.0 (8.0)\n",
      "Epoch 019/020 | Loss 0.0084 | Win/lose count 4.0/3.0 (1.0)\n"
     ]
    },
    {
     "data": {
      "text/html": [
       "<video alt=\"test\" controls>\n",
       "                <source src=\"data:video/mp4;base64,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\" type=\"video/mp4\" />\n",
       "             </video>"
      ],
      "text/plain": [
       "<IPython.core.display.HTML object>"
      ]
     },
     "execution_count": 12,
     "metadata": {},
     "output_type": "execute_result"
    }
   ],
   "source": [
    "env = Environment(grid_size=size, max_time=T, temperature=0.3)\n",
    "agent = DQN_FC(size, lr=.01, epsilon = 0.1, memory_size=2000, batch_size = 32)\n",
    "train(agent, env, epochs_train, prefix='fc_train')\n",
    "HTML(display_videos('fc_train10.mp4'))"
   ]
  },
  {
   "cell_type": "markdown",
   "metadata": {},
   "source": [
    "***\n",
    "***\n",
    "__Question 8__ Implement the DQN training algorithm using a CNN (for example, 2 convolutional layers and one final fully connected layer)."
   ]
  },
  {
   "cell_type": "code",
   "execution_count": 13,
   "metadata": {},
   "outputs": [],
   "source": [
    "class DQN_CNN(DQN):\n",
    "    def __init__(self, *args,lr=0.1,**kwargs):\n",
    "        super(DQN_CNN, self).__init__(*args,**kwargs)\n",
    "        \n",
    "        model = Sequential()\n",
    "        #self.batch_size, 5,5,self.n_state\n",
    "        model.add(Conv2D(32, (3, 3), activation=\"relu\"))\n",
    "       \n",
    "        \n",
    "        model.add(Conv2D(64, (3, 3), activation=\"relu\"))\n",
    "        \n",
    "        \n",
    "        \n",
    "        model.add(Flatten())\n",
    "        model.add(Dense(4))\n",
    "        \n",
    "        model.compile(sgd(lr=lr, decay=1e-4, momentum=0.0), \"mse\")\n",
    "        self.model = model"
   ]
  },
  {
   "cell_type": "code",
   "execution_count": 14,
   "metadata": {},
   "outputs": [
    {
     "name": "stdout",
     "output_type": "stream",
     "text": [
      "Epoch 000/020 | Loss 0.0095 | Win/lose count 6.0/9.0 (-3.0)\n",
      "Epoch 001/020 | Loss 0.0048 | Win/lose count 0.5/1.0 (-0.5)\n",
      "Epoch 002/020 | Loss 0.0021 | Win/lose count 4.0/3.0 (1.0)\n",
      "Epoch 003/020 | Loss 0.0023 | Win/lose count 6.0/2.0 (4.0)\n",
      "Epoch 004/020 | Loss 0.0102 | Win/lose count 4.0/4.0 (0.0)\n",
      "Epoch 005/020 | Loss 0.0029 | Win/lose count 3.5/4.0 (-0.5)\n",
      "Epoch 006/020 | Loss 0.0168 | Win/lose count 4.5/7.0 (-2.5)\n",
      "Epoch 007/020 | Loss 0.0034 | Win/lose count 2.5/2.0 (0.5)\n",
      "Epoch 008/020 | Loss 0.0135 | Win/lose count 5.0/4.0 (1.0)\n",
      "Epoch 009/020 | Loss 0.0065 | Win/lose count 9.0/5.0 (4.0)\n",
      "Epoch 010/020 | Loss 0.0040 | Win/lose count 3.0/2.0 (1.0)\n",
      "Epoch 011/020 | Loss 0.0007 | Win/lose count 5.5/3.0 (2.5)\n",
      "Epoch 012/020 | Loss 0.0084 | Win/lose count 4.0/2.0 (2.0)\n",
      "Epoch 013/020 | Loss 0.0046 | Win/lose count 5.5/9.0 (-3.5)\n",
      "Epoch 014/020 | Loss 0.0101 | Win/lose count 6.0/2.0 (4.0)\n",
      "Epoch 015/020 | Loss 0.0045 | Win/lose count 6.0/2.0 (4.0)\n",
      "Epoch 016/020 | Loss 0.0038 | Win/lose count 7.5/5.0 (2.5)\n",
      "Epoch 017/020 | Loss 0.0130 | Win/lose count 5.0/1.0 (4.0)\n",
      "Epoch 018/020 | Loss 0.0044 | Win/lose count 6.0/5.0 (1.0)\n",
      "Epoch 019/020 | Loss 0.0048 | Win/lose count 4.0/7.0 (-3.0)\n"
     ]
    },
    {
     "data": {
      "text/html": [
       "<video alt=\"test\" controls>\n",
       "                <source src=\"data:video/mp4;base64,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\" type=\"video/mp4\" />\n",
       "             </video>"
      ],
      "text/plain": [
       "<IPython.core.display.HTML object>"
      ]
     },
     "execution_count": 14,
     "metadata": {},
     "output_type": "execute_result"
    }
   ],
   "source": [
    "env = Environment(grid_size=size, max_time=T, temperature=0.3)\n",
    "agent = DQN_CNN(size, lr=.01, epsilon = 0.1, memory_size=2000, batch_size = 32)\n",
    "train(agent,env,epochs_train,prefix='cnn_train')\n",
    "HTML(display_videos('cnn_train10.mp4'))"
   ]
  },
  {
   "cell_type": "markdown",
   "metadata": {},
   "source": [
    "***\n",
    "***\n",
    "__Question 9__ Test both algorithms and compare their performances. Which issue(s) do you observe? Observe also different behaviors by changing the temperature."
   ]
  },
  {
   "cell_type": "code",
   "execution_count": 15,
   "metadata": {},
   "outputs": [
    {
     "name": "stdout",
     "output_type": "stream",
     "text": [
      "Test of the CNN\n",
      "Win/lose count 3.5/1.0. Average score (2.5)\n",
      "Win/lose count 0.5/1.0. Average score (1.0)\n",
      "Win/lose count 3.5/0. Average score (1.8333333333333333)\n",
      "Win/lose count 0.5/0. Average score (1.5)\n",
      "Win/lose count 2.5/1.0. Average score (1.5)\n",
      "Win/lose count 1.5/0. Average score (1.5)\n",
      "Win/lose count 2.0/0. Average score (1.5714285714285714)\n",
      "Win/lose count 2.5/0. Average score (1.6875)\n",
      "Win/lose count 4.0/3.0. Average score (1.6111111111111112)\n",
      "Win/lose count 0.5/1.0. Average score (1.4)\n",
      "Win/lose count 1.0/0. Average score (1.3636363636363635)\n",
      "Win/lose count 3.5/2.0. Average score (1.375)\n",
      "Win/lose count 2.0/2.0. Average score (1.2692307692307692)\n",
      "Win/lose count 1.0/0. Average score (1.25)\n",
      "Win/lose count 1.5/0. Average score (1.2666666666666666)\n",
      "Win/lose count 4.5/0. Average score (1.46875)\n",
      "Win/lose count 2.0/0. Average score (1.5)\n",
      "Win/lose count 3.0/0. Average score (1.5833333333333333)\n",
      "Win/lose count 3.5/1.0. Average score (1.631578947368421)\n",
      "Win/lose count 2.5/1.0. Average score (1.625)\n",
      "Final score: 1.625\n",
      "Test of the FC\n",
      "Win/lose count 1.0/0. Average score (1.0)\n",
      "Win/lose count 0/0. Average score (0.5)\n",
      "Win/lose count 2.0/4.0. Average score (-0.3333333333333333)\n",
      "Win/lose count 0.5/0. Average score (-0.125)\n",
      "Win/lose count 0/0. Average score (-0.1)\n",
      "Win/lose count 0.5/0. Average score (0.0)\n",
      "Win/lose count 0/0. Average score (0.0)\n",
      "Win/lose count 0/1.0. Average score (-0.125)\n",
      "Win/lose count 0/1.0. Average score (-0.2222222222222222)\n",
      "Win/lose count 0/0. Average score (-0.2)\n",
      "Win/lose count 1.0/4.0. Average score (-0.45454545454545453)\n",
      "Win/lose count 0.5/0. Average score (-0.375)\n",
      "Win/lose count 1.0/0. Average score (-0.2692307692307692)\n",
      "Win/lose count 0.5/2.0. Average score (-0.35714285714285715)\n",
      "Win/lose count 0.5/0. Average score (-0.3)\n",
      "Win/lose count 0.5/0. Average score (-0.25)\n",
      "Win/lose count 0.5/1.0. Average score (-0.2647058823529412)\n",
      "Win/lose count 0/0. Average score (-0.25)\n",
      "Win/lose count 0/1.0. Average score (-0.2894736842105263)\n",
      "Win/lose count 0.5/1.0. Average score (-0.3)\n",
      "Final score: -0.3\n"
     ]
    }
   ],
   "source": [
    "env = Environment(grid_size=size, max_time=T,temperature=0.3)\n",
    "agent_cnn = DQN_CNN(size, lr=.01, epsilon = 0.1, memory_size=2000, batch_size = 32)\n",
    "agent_cnn.load(name_weights='cnn_trainmodel.h5',name_model='cnn_trainmodel.json')\n",
    "\n",
    "agent_fc = DQN_FC(size, lr=.01, epsilon = 0.1, memory_size=2000, batch_size = 32)\n",
    "agent_cnn.load(name_weights='fc_trainmodel.h5',name_model='fc_trainmodel.json')\n",
    "print('Test of the CNN')\n",
    "test(agent_cnn,env,epochs_test,prefix='cnn_test')\n",
    "print('Test of the FC')\n",
    "test(agent_fc,env,epochs_test,prefix='fc_test')"
   ]
  },
  {
   "cell_type": "code",
   "execution_count": 172,
   "metadata": {},
   "outputs": [
    {
     "data": {
      "text/html": [
       "<video alt=\"test\" controls>\n",
       "                <source src=\"data:video/mp4;base64,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\" type=\"video/mp4\" />\n",
       "             </video>"
      ],
      "text/plain": [
       "<IPython.core.display.HTML object>"
      ]
     },
     "execution_count": 172,
     "metadata": {},
     "output_type": "execute_result"
    }
   ],
   "source": [
    "HTML(display_videos('cnn_test10.mp4'))"
   ]
  },
  {
   "cell_type": "code",
   "execution_count": 173,
   "metadata": {},
   "outputs": [
    {
     "data": {
      "text/html": [
       "<video alt=\"test\" controls>\n",
       "                <source src=\"data:video/mp4;base64,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\" type=\"video/mp4\" />\n",
       "             </video>"
      ],
      "text/plain": [
       "<IPython.core.display.HTML object>"
      ]
     },
     "execution_count": 173,
     "metadata": {},
     "output_type": "execute_result"
    }
   ],
   "source": [
    "HTML(display_videos('fc_test10.mp4'))"
   ]
  },
  {
   "cell_type": "markdown",
   "metadata": {},
   "source": [
    "The CNN algorithm seems to generalize best. Its score is 1.625 and on the contrary the score for the FC algorithm is negative : only -0.3. Each epoch of the test gives a positive score for the CNN algorithm: it learned well and manages to generalize well."
   ]
  },
  {
   "cell_type": "markdown",
   "metadata": {},
   "source": [
    "***\n",
    "\n",
    "The algorithm tends to not explore the map which can be an issue. We propose two ideas in order to encourage exploration:\n",
    "1. Incorporating a decreasing $\\epsilon$-greedy exploration. You can use the method ```set_epsilon```\n",
    "2. Append via the environment a new state that describes if a cell has been visited or not\n",
    "\n",
    "***\n",
    "__Question 10__ Design a new ```train_explore``` function and environment class ```EnvironmentExploring``` to tackle the issue of exploration.\n",
    "\n"
   ]
  },
  {
   "cell_type": "code",
   "execution_count": 16,
   "metadata": {},
   "outputs": [],
   "source": [
    "def train_explore(agent,env,epoch,prefix='',decay=0.9,update_frequency=2):\n",
    "    # Number of won games\n",
    "    score = 0\n",
    "    loss = 0\n",
    "\n",
    "    for e in range(epoch):\n",
    "        # At each epoch, we restart to a fresh game and get the initial state\n",
    "        state = env.reset()\n",
    "        # This assumes that the games will terminate\n",
    "        game_over = False\n",
    "\n",
    "        win = 0\n",
    "        lose = 0\n",
    "        \n",
    "        if e%update_frequency == 0:\n",
    "                eps = agent.epsilon\n",
    "                agent.set_epsilon(eps*decay)\n",
    "\n",
    "        while not game_over:\n",
    "            # The agent performs an action\n",
    "            \n",
    "            action= agent.act(state)\n",
    "\n",
    "            # Apply an action to the environment, get the next state, the reward\n",
    "            # and if the games end\n",
    "            prev_state = state\n",
    "            state, reward, game_over = env.act(action)\n",
    "\n",
    "            # Update the counters\n",
    "            if reward > 0:\n",
    "                win = win + reward\n",
    "            if reward < 0:\n",
    "                lose = lose -reward\n",
    "\n",
    "            # Apply the reinforcement strategy\n",
    "            loss = agent.reinforce(prev_state, state,  action, reward, game_over)\n",
    "            \n",
    "            \n",
    "\n",
    "        # Save as a mp4\n",
    "        if e % 10 == 0:\n",
    "            env.draw(prefix+str(e))\n",
    "\n",
    "        # Update stats\n",
    "        score += win-lose\n",
    "\n",
    "        print(\"Epoch {:03d}/{:03d} | Loss {:.4f} | Win/lose count {}/{} ({})\"\n",
    "              .format(e, epoch, loss, win, lose, win-lose))\n",
    "        agent.save(name_weights=prefix+'model.h5',name_model=prefix+'model.json')\n",
    "    \n",
    "        \n",
    "class EnvironmentExploring(object):\n",
    "    def __init__(self, grid_size=10, max_time=500, temperature=0.1):\n",
    "        #super(EnvironmentExploring, self).__init__(grid_size=grid_size, max_time=max_time, temperature=temperature)\n",
    "        grid_size = grid_size+4\n",
    "        self.grid_size = grid_size\n",
    "        self.max_time = max_time\n",
    "        self.temperature = temperature\n",
    "        \n",
    "\n",
    "        #board on which one plays\n",
    "        self.board = np.zeros((grid_size,grid_size))\n",
    "        self.position = np.zeros((grid_size,grid_size))\n",
    "        self.malus_position = np.zeros((grid_size,grid_size))\n",
    "\n",
    "        # coordinate of the cat\n",
    "        self.x = 0\n",
    "        self.y = 1\n",
    "        self.malus_position[self.x, self.y] = 0.1\n",
    "        \n",
    "        # self time\n",
    "        self.t = 0\n",
    "\n",
    "        self.scale=16\n",
    "\n",
    "        self.to_draw = np.zeros((max_time+2, grid_size*self.scale, grid_size*self.scale, 3))\n",
    "\n",
    "\n",
    "    def draw(self,e):\n",
    "        skvideo.io.vwrite(str(e) + '.mp4', self.to_draw)\n",
    "\n",
    "    def get_frame(self,t):\n",
    "        b = np.zeros((self.grid_size,self.grid_size,3))+128\n",
    "        b[self.board>0,0] = 256\n",
    "        b[self.board < 0, 2] = 256\n",
    "        b[self.x,self.y,:]=256\n",
    "        b[-2:,:,:]=0\n",
    "        b[:,-2:,:]=0\n",
    "        b[:2,:,:]=0\n",
    "        b[:,:2,:]=0\n",
    "        \n",
    "        b =  cv2.resize(b, None, fx=self.scale, fy=self.scale, interpolation=cv2.INTER_NEAREST)\n",
    "\n",
    "        self.to_draw[t,:,:,:]=b\n",
    "\n",
    "\n",
    "    def act(self, action):\n",
    "        \"\"\"This function returns the new state, reward and decides if the\n",
    "        game ends.\"\"\"\n",
    "\n",
    "        self.get_frame(int(self.t))\n",
    "\n",
    "        self.position = np.zeros((self.grid_size, self.grid_size))\n",
    "\n",
    "        self.position[0:2,:]= -1\n",
    "        self.position[:,0:2] = -1\n",
    "        self.position[-2:, :] = -1\n",
    "        self.position[:, -2:] = -1\n",
    "\n",
    "        self.position[self.x, self.y] = 1\n",
    "        \n",
    "        if action == 0:\n",
    "            if self.x == self.grid_size-3:\n",
    "                self.x = self.x-1\n",
    "            else:\n",
    "                self.x = self.x + 1\n",
    "        elif action == 1:\n",
    "            if self.x == 2:\n",
    "                self.x = self.x+1\n",
    "            else:\n",
    "                self.x = self.x-1\n",
    "        elif action == 2:\n",
    "            if self.y == self.grid_size - 3:\n",
    "                self.y = self.y - 1\n",
    "            else:\n",
    "                self.y = self.y + 1\n",
    "        elif action == 3:\n",
    "            if self.y == 2:\n",
    "                self.y = self.y + 1\n",
    "            else:\n",
    "                self.y = self.y - 1\n",
    "        else:\n",
    "            RuntimeError('Error: action not recognized')\n",
    "        \n",
    "        self.t = self.t + 1\n",
    "        \n",
    "        reward = 0\n",
    "        \n",
    "        if train:\n",
    "            reward = -self.malus_position[self.x, self.y]\n",
    "        self.malus_position[self.x, self.y] = 0.1\n",
    "\n",
    "        \n",
    "        reward += self.board[self.x, self.y]\n",
    "        self.board[self.x, self.y] = 0\n",
    "        game_over = self.t > self.max_time\n",
    "        state = np.concatenate((self.malus_position.reshape(self.grid_size, self.grid_size,1),\n",
    "                                self.board.reshape(self.grid_size, self.grid_size,1),\n",
    "                        self.position.reshape(self.grid_size, self.grid_size,1)),axis=2)\n",
    "        state = state[self.x-2:self.x+3,self.y-2:self.y+3,:]\n",
    "\n",
    "        return state, reward, game_over\n",
    "\n",
    "    def reset(self):\n",
    "        \"\"\"This function resets the game and returns the initial state\"\"\"\n",
    "\n",
    "        self.x = np.random.randint(3, self.grid_size-3, size=1)[0]\n",
    "        self.y = np.random.randint(3, self.grid_size-3, size=1)[0]\n",
    "\n",
    "\n",
    "        bonus = 0.5*np.random.binomial(1,self.temperature,size=self.grid_size**2)\n",
    "        bonus = bonus.reshape(self.grid_size,self.grid_size)\n",
    "\n",
    "        malus = -1.0*np.random.binomial(1,self.temperature,size=self.grid_size**2)\n",
    "        malus = malus.reshape(self.grid_size, self.grid_size)\n",
    "\n",
    "        self.to_draw = np.zeros((self.max_time+2, self.grid_size*self.scale, self.grid_size*self.scale, 3))\n",
    "\n",
    "\n",
    "        malus[bonus>0]=0\n",
    "\n",
    "        self.board = bonus + malus\n",
    "\n",
    "        self.position = np.zeros((self.grid_size, self.grid_size))\n",
    "        self.position[0:2,:]= -1\n",
    "        self.position[:,0:2] = -1\n",
    "        self.position[-2:, :] = -1\n",
    "        self.position[:, -2:] = -1\n",
    "        self.board[self.x,self.y] = 0\n",
    "        self.t = 0\n",
    "\n",
    "        state = np.concatenate((self.malus_position.reshape(self.grid_size, self.grid_size,1),\n",
    "                                self.board.reshape(self.grid_size, self.grid_size,1),\n",
    "                        self.position.reshape(self.grid_size, self.grid_size,1)),axis=2)\n",
    "        \n",
    "        state = state[self.x - 2:self.x + 3, self.y - 2:self.y + 3, :]\n",
    "        return state\n",
    "    "
   ]
  },
  {
   "cell_type": "code",
   "execution_count": 18,
   "metadata": {},
   "outputs": [
    {
     "name": "stdout",
     "output_type": "stream",
     "text": [
      "Epoch 000/020 | Loss 0.0196 | Win/lose count 5.5/20.400000000000027 (-14.900000000000027)\n",
      "Epoch 001/020 | Loss 0.0032 | Win/lose count 1.9/24.100000000000083 (-22.200000000000085)\n",
      "Epoch 002/020 | Loss 0.0112 | Win/lose count 4.4/24.40000000000009 (-20.000000000000092)\n",
      "Epoch 003/020 | Loss 0.0226 | Win/lose count 5.1000000000000005/26.100000000000016 (-21.000000000000014)\n",
      "Epoch 004/020 | Loss 0.0108 | Win/lose count 6.100000000000001/29.000000000000153 (-22.90000000000015)\n",
      "Epoch 005/020 | Loss 0.0119 | Win/lose count 4.0/23.000000000000064 (-19.000000000000064)\n",
      "Epoch 006/020 | Loss 0.0125 | Win/lose count 8.200000000000001/30.400000000000148 (-22.200000000000145)\n",
      "Epoch 007/020 | Loss 0.0264 | Win/lose count 2.0/21.400000000000045 (-19.400000000000045)\n",
      "Epoch 008/020 | Loss 0.0118 | Win/lose count 4.3/24.900000000000034 (-20.600000000000033)\n",
      "Epoch 009/020 | Loss 0.0058 | Win/lose count 6.000000000000001/26.600000000000108 (-20.600000000000108)\n",
      "Epoch 010/020 | Loss 0.0226 | Win/lose count 4.3999999999999995/22.00000000000005 (-17.60000000000005)\n",
      "Epoch 011/020 | Loss 0.0047 | Win/lose count 2.9/22.20000000000005 (-19.30000000000005)\n",
      "Epoch 012/020 | Loss 0.0032 | Win/lose count 4.6/20.500000000000025 (-15.900000000000025)\n",
      "Epoch 013/020 | Loss 0.0030 | Win/lose count 5.6000000000000005/28.70000000000011 (-23.100000000000108)\n",
      "Epoch 014/020 | Loss 0.0051 | Win/lose count 4.5/24.900000000000016 (-20.400000000000016)\n",
      "Epoch 015/020 | Loss 0.0060 | Win/lose count 3.3/22.100000000000048 (-18.800000000000047)\n",
      "Epoch 016/020 | Loss 0.0053 | Win/lose count 2.0/24.600000000000033 (-22.600000000000033)\n",
      "Epoch 017/020 | Loss 0.0051 | Win/lose count 2.8/24.200000000000045 (-21.400000000000045)\n",
      "Epoch 018/020 | Loss 0.0138 | Win/lose count 3.9999999999999996/25.100000000000104 (-21.100000000000104)\n",
      "Epoch 019/020 | Loss 0.0039 | Win/lose count 2.4/26.50000000000009 (-24.10000000000009)\n"
     ]
    },
    {
     "data": {
      "text/html": [
       "<video alt=\"test\" controls>\n",
       "                <source src=\"data:video/mp4;base64,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\" type=\"video/mp4\" />\n",
       "             </video>"
      ],
      "text/plain": [
       "<IPython.core.display.HTML object>"
      ]
     },
     "execution_count": 18,
     "metadata": {},
     "output_type": "execute_result"
    }
   ],
   "source": [
    "# Training\n",
    "env = EnvironmentExploring(grid_size=size, max_time=T, temperature=0.3)\n",
    "agent = DQN_CNN(size, lr=.01, epsilon = 0.1, memory_size=2000, batch_size = 32,n_state=3)\n",
    "train_explore(agent, env, epochs_train, prefix='cnn_train_explore')\n",
    "HTML(display_videos('cnn_train_explore10.mp4'))"
   ]
  },
  {
   "cell_type": "code",
   "execution_count": 19,
   "metadata": {},
   "outputs": [
    {
     "name": "stdout",
     "output_type": "stream",
     "text": [
      "Win/lose count 0.4/20.000000000000014. Average score (-19.600000000000016)\n",
      "Win/lose count 3.1999999999999997/22.20000000000005. Average score (-19.300000000000033)\n",
      "Win/lose count 0.4/21.000000000000032. Average score (-19.733333333333366)\n",
      "Win/lose count 0.8/19.900000000000013. Average score (-19.57500000000003)\n",
      "Win/lose count 0/21.100000000000033. Average score (-19.88000000000003)\n",
      "Win/lose count 0.9/20.800000000000026. Average score (-19.883333333333365)\n",
      "Win/lose count 4.3999999999999995/20.000000000000018. Average score (-19.2714285714286)\n",
      "Win/lose count 3.1999999999999997/21.300000000000033. Average score (-19.125000000000032)\n",
      "Win/lose count 3.3/19.300000000000004. Average score (-18.777777777777807)\n",
      "Win/lose count 3.1999999999999997/25.3000000000001. Average score (-19.110000000000035)\n",
      "Win/lose count 2.8/19.400000000000006. Average score (-18.881818181818215)\n",
      "Win/lose count 0/21.100000000000033. Average score (-19.0666666666667)\n",
      "Win/lose count 2.8/28.400000000000155. Average score (-19.56923076923081)\n",
      "Win/lose count 2.0/21.600000000000037. Average score (-19.571428571428612)\n",
      "Win/lose count 1.2000000000000002/21.80000000000004. Average score (-19.64000000000004)\n",
      "Win/lose count 0.4/21.000000000000032. Average score (-19.700000000000042)\n",
      "Win/lose count 1.6/20.700000000000024. Average score (-19.664705882352983)\n",
      "Win/lose count 0/20.100000000000016. Average score (-19.68888888888893)\n",
      "Win/lose count 3.5999999999999996/20.200000000000017. Average score (-19.52631578947372)\n",
      "Win/lose count 3.5999999999999996/26.200000000000117. Average score (-19.68000000000004)\n",
      "Final score: -19.68000000000004\n"
     ]
    },
    {
     "data": {
      "text/html": [
       "<video alt=\"test\" controls>\n",
       "                <source src=\"data:video/mp4;base64,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\" type=\"video/mp4\" />\n",
       "             </video>"
      ],
      "text/plain": [
       "<IPython.core.display.HTML object>"
      ]
     },
     "execution_count": 19,
     "metadata": {},
     "output_type": "execute_result"
    }
   ],
   "source": [
    "# Evaluation\n",
    "test(agent,env,epochs_test,prefix='cnn_test_explore')\n",
    "HTML(display_videos('cnn_test_explore10.mp4'))"
   ]
  },
  {
   "cell_type": "markdown",
   "metadata": {},
   "source": [
    "It seems now that the robot is fearless the malus on the explorated cells is clearly encouraging the robot to move from its original place. It is interesting to noti"
   ]
  },
  {
   "cell_type": "markdown",
   "metadata": {},
   "source": [
    "***\n",
    "***\n",
    "__BONUS question__ Use the expert DQN from the previous question to generate some winning games. Train a model that mimicks its behavior. Compare the performances."
   ]
  },
  {
   "cell_type": "markdown",
   "metadata": {},
   "source": []
  },
  {
   "cell_type": "markdown",
   "metadata": {},
   "source": [
    "***"
   ]
  }
 ],
 "metadata": {
  "kernelspec": {
   "display_name": "Python 3",
   "language": "python",
   "name": "python3"
  },
  "language_info": {
   "codemirror_mode": {
    "name": "ipython",
    "version": 3
   },
   "file_extension": ".py",
   "mimetype": "text/x-python",
   "name": "python",
   "nbconvert_exporter": "python",
   "pygments_lexer": "ipython3",
   "version": "3.7.3"
  }
 },
 "nbformat": 4,
 "nbformat_minor": 2
}
